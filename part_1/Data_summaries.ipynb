{
 "cells": [
  {
   "cell_type": "code",
   "execution_count": null,
   "metadata": {
    "inputHidden": false,
    "outputHidden": false
   },
   "outputs": [],
   "source": [
    "import pandas as pd\n",
    "import random\n",
    "import seaborn as sns\n",
    "import matplotlib.pyplot as plt\n",
    "import numpy as np\n",
    "import io\n",
    "import requests"
   ]
  },
  {
   "cell_type": "markdown",
   "metadata": {},
   "source": [
    "## Reading the data\n",
    "\n",
    "Let's look at the countries data"
   ]
  },
  {
   "cell_type": "code",
   "execution_count": null,
   "metadata": {
    "inputHidden": false,
    "outputHidden": false
   },
   "outputs": [],
   "source": [
    "#importing the countries data\n",
    "countries_header = ['name','capital','location','pop(mil)','rank','area(km2)','rank_area','currency','national_holiday']\n",
    "url1 = 'https://raw.githubusercontent.com/terezaif/workshops_data_exploration/master/datasets/countries_a.csv'\n",
    "df = pd.read_csv(url1, skiprows=1, names=countries_header)\n",
    "\n",
    "url2='https://raw.githubusercontent.com/terezaif/workshops_data_exploration/master/datasets/countries_europe.csv'\n",
    "df2 = pd.read_csv(url2, skiprows=1, names=countries_header)"
   ]
  },
  {
   "cell_type": "markdown",
   "metadata": {},
   "source": [
    "### the 5 number summary\n",
    "\n",
    "The 5 number summary consists of the extremes (min and max), quartiles and median. This in panda can be retrieved by the df.describe() function"
   ]
  },
  {
   "cell_type": "code",
   "execution_count": null,
   "metadata": {
    "inputHidden": false,
    "outputHidden": false
   },
   "outputs": [],
   "source": [
    " df"
   ]
  },
  {
   "cell_type": "code",
   "execution_count": null,
   "metadata": {},
   "outputs": [],
   "source": [
    "#getting the summary\n",
    "df2.describe()"
   ]
  },
  {
   "cell_type": "code",
   "execution_count": null,
   "metadata": {
    "scrolled": true
   },
   "outputs": [],
   "source": [
    "#Looking at the histogram\n",
    "sns.distplot(df['pop(mil)'],bins=20, kde=False);"
   ]
  },
  {
   "cell_type": "code",
   "execution_count": null,
   "metadata": {},
   "outputs": [],
   "source": [
    "sns.distplot(df2['pop(mil)'],bins=20, kde=False);"
   ]
  },
  {
   "cell_type": "markdown",
   "metadata": {},
   "source": [
    "### Plotting the boxplots\n",
    "\n",
    "We will plot the boxplot for the popuation, and we will also look at the square root and at the log of population."
   ]
  },
  {
   "cell_type": "code",
   "execution_count": null,
   "metadata": {},
   "outputs": [],
   "source": [
    "## getting root and square root\n",
    "df['logpop'] = np.log10(df['pop(mil)'])\n",
    "df['rootpop'] = np.sqrt(df['pop(mil)'])\n",
    "df2['logpop'] = np.log10(df2['pop(mil)'])\n",
    "df2['rootpop'] = np.sqrt(df2['pop(mil)'])"
   ]
  },
  {
   "cell_type": "code",
   "execution_count": null,
   "metadata": {
    "inputHidden": false,
    "outputHidden": false
   },
   "outputs": [],
   "source": [
    "df.boxplot(column=['pop(mil)']);"
   ]
  },
  {
   "cell_type": "code",
   "execution_count": null,
   "metadata": {},
   "outputs": [],
   "source": [
    "df2.boxplot(column=['pop(mil)'])"
   ]
  },
  {
   "cell_type": "markdown",
   "metadata": {},
   "source": [
    "## Comparing the 2 datasets"
   ]
  },
  {
   "cell_type": "code",
   "execution_count": null,
   "metadata": {},
   "outputs": [],
   "source": [
    "fig, axes = plt.subplots(ncols=2,sharex=True,sharey=True,figsize=(9,6))\n",
    "\n",
    "df.boxplot(column=['pop(mil)'],ax=axes[0],patch_artist=True)\n",
    "df2.boxplot(column=['pop(mil)'],ax=axes[1],patch_artist=True)\n"
   ]
  },
  {
   "cell_type": "code",
   "execution_count": null,
   "metadata": {},
   "outputs": [],
   "source": [
    "fig, axes = plt.subplots(ncols=2,sharex=True,sharey=True,figsize=(9,6))\n",
    "\n",
    "df.boxplot(column=['rootpop'],ax=axes[0],patch_artist=True)\n",
    "df2.boxplot(column=['rootpop'],ax=axes[1],patch_artist=True)\n"
   ]
  },
  {
   "cell_type": "code",
   "execution_count": null,
   "metadata": {},
   "outputs": [],
   "source": []
  }
 ],
 "metadata": {
  "kernel_info": {
   "name": "python3"
  },
  "kernelspec": {
   "display_name": "Python 3",
   "language": "python",
   "name": "python3"
  },
  "language_info": {
   "codemirror_mode": {
    "name": "ipython",
    "version": 3
   },
   "file_extension": ".py",
   "mimetype": "text/x-python",
   "name": "python",
   "nbconvert_exporter": "python",
   "pygments_lexer": "ipython3",
   "version": "3.6.5"
  },
  "nteract": {
   "version": "0.12.3"
  }
 },
 "nbformat": 4,
 "nbformat_minor": 2
}
