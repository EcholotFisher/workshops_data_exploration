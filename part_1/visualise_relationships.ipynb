{
 "cells": [
  {
   "cell_type": "code",
   "execution_count": null,
   "metadata": {},
   "outputs": [],
   "source": [
    "import pandas as pd\n",
    "import geopandas as gpd\n",
    "import random\n",
    "import seaborn as sns\n",
    "import matplotlib.pyplot as plt\n",
    "import numpy as np"
   ]
  },
  {
   "cell_type": "markdown",
   "metadata": {},
   "source": [
    "# First dataset"
   ]
  },
  {
   "cell_type": "code",
   "execution_count": null,
   "metadata": {},
   "outputs": [],
   "source": [
    "# sample size\n",
    "N = 15"
   ]
  },
  {
   "cell_type": "code",
   "execution_count": null,
   "metadata": {},
   "outputs": [],
   "source": [
    "\n",
    "df = pd.read_csv('https://github.com/rmcelreath/rethinking/raw/master/data/Howell1.csv', sep=';')\n",
    "df = df.sample(N, random_state=50)\n",
    "\n",
    "sns.lmplot(x=\"height\", y=\"weight\", data=df, ci=None)\n",
    "plt.xlabel('Height (cm)')\n",
    "plt.ylabel('Weight (kg)')\n",
    "plt.title(\"Scatter plot between kid's height and weight\");\n",
    "\n",
    "sns.lmplot(x=\"height\", y=\"age\", data=df, ci=None)\n",
    "plt.xlabel('Height (cm)')\n",
    "plt.ylabel('Age (years)')\n",
    "plt.title(\"Scatter plot between kid's height and age\");\n",
    "\n",
    "df.to_csv(f'../datasets/weight_height_{N}.csv')"
   ]
  },
  {
   "cell_type": "markdown",
   "metadata": {},
   "source": [
    "# Seconds dataset: https://www.kaggle.com/zynicide/wine-reviews"
   ]
  },
  {
   "cell_type": "code",
   "execution_count": null,
   "metadata": {},
   "outputs": [],
   "source": [
    "\n",
    "df = pd.read_csv('../datasets/winemag-data-130k-v2.csv', index_col=0)\n",
    "df = df.sample(N, random_state=50)\n",
    "\n",
    "sns.lmplot(x=\"points\", y=\"price\", data=df, ci=None)\n",
    "plt.xlabel('Points')\n",
    "plt.ylabel('Price ($)')\n",
    "plt.title(\"Scatter plot between wine Points and Price\");\n",
    "\n",
    "df.to_csv(f'../datasets/points_price_{N}.csv')"
   ]
  },
  {
   "cell_type": "markdown",
   "metadata": {},
   "source": [
    "# Third dataset: https://archive.ics.uci.edu/ml/datasets/iris"
   ]
  },
  {
   "cell_type": "code",
   "execution_count": null,
   "metadata": {
    "scrolled": false
   },
   "outputs": [],
   "source": [
    "from sklearn import datasets\n",
    "\n",
    "df = datasets.load_iris()\n",
    "col_names = df['feature_names']\n",
    "df = pd.DataFrame(df['data'], columns=col_names)\n",
    "df = df.sample(N, random_state=50)\n",
    "\n",
    "sns.lmplot(x=\"sepal length (cm)\", y=\"petal length (cm)\", data=df, ci=None)\n",
    "plt.title(\"Scatter plot between sepal length (cm) and sepal width (cm)\");\n",
    "\n",
    "df.to_csv(f'../datasets/sepal_length_petal_length_{N}.csv')"
   ]
  },
  {
   "cell_type": "markdown",
   "metadata": {},
   "source": [
    "# Fourth dataset: https://www.cs.toronto.edu/~delve/data/boston/bostonDetail.html"
   ]
  },
  {
   "cell_type": "code",
   "execution_count": null,
   "metadata": {},
   "outputs": [],
   "source": [
    "df = datasets.load_boston()\n",
    "col_names = df['feature_names']\n",
    "df = pd.DataFrame(df['data'], columns=col_names)\n",
    "df = df.sample(N, random_state=50)\n",
    "\n",
    "sns.lmplot(x=\"LSTAT\", y=\"CRIM\", data=df, ci=None)\n",
    "plt.title(\"Scatter plot between Lower Status of Population and Crime per Capita\");\n",
    "\n",
    "df.to_csv(f'datasets/lstat_crim_{N}.csv')"
   ]
  },
  {
   "cell_type": "markdown",
   "metadata": {},
   "source": [
    "# Fifth dataset: https://stat.ethz.ch/R-manual/R-devel/library/datasets/html/mtcars.html"
   ]
  },
  {
   "cell_type": "code",
   "execution_count": null,
   "metadata": {},
   "outputs": [],
   "source": [
    "df = pd.read_csv('https://gist.github.com/seankross/a412dfbd88b3db70b74b/raw/5f23f993cd87c283ce766e7ac6b329ee7cc2e1d1/mtcars.csv')\n",
    "df = df.sample(N, random_state=50)\n",
    "\n",
    "sns.lmplot(x=\"hp\", y=\"mpg\", data=df, ci=None)\n",
    "plt.xlabel('Horse power')\n",
    "plt.ylabel('Miles per Galon')\n",
    "plt.title(\"Scatter plot between Horse Power and Miles per Galon\");\n",
    "\n",
    "df.to_csv(f'datasets/hp_mpg_{N}.csv')\n"
   ]
  }
 ],
 "metadata": {
  "hide_input": false,
  "kernelspec": {
   "display_name": "Python 3",
   "language": "python",
   "name": "python3"
  },
  "language_info": {
   "codemirror_mode": {
    "name": "ipython",
    "version": 3
   },
   "file_extension": ".py",
   "mimetype": "text/x-python",
   "name": "python",
   "nbconvert_exporter": "python",
   "pygments_lexer": "ipython3",
   "version": "3.6.5"
  },
  "toc": {
   "base_numbering": 1,
   "nav_menu": {},
   "number_sections": true,
   "sideBar": true,
   "skip_h1_title": false,
   "title_cell": "Table of Contents",
   "title_sidebar": "Contents",
   "toc_cell": false,
   "toc_position": {},
   "toc_section_display": true,
   "toc_window_display": false
  }
 },
 "nbformat": 4,
 "nbformat_minor": 2
}
