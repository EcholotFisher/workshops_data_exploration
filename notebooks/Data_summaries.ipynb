{
 "cells": [
  {
   "cell_type": "code",
   "execution_count": 1,
   "metadata": {
    "inputHidden": false,
    "outputHidden": false
   },
   "outputs": [],
   "source": [
    "import pandas as pd\n",
    "import random\n",
    "import seaborn as sns\n",
    "import matplotlib.pyplot as plt\n",
    "import numpy as np"
   ]
  },
  {
   "cell_type": "markdown",
   "metadata": {},
   "source": [
    "## Reading the data\n",
    "\n",
    "Let's look at the countries data"
   ]
  },
  {
   "cell_type": "code",
   "execution_count": 2,
   "metadata": {
    "inputHidden": false,
    "outputHidden": false
   },
   "outputs": [],
   "source": [
    "#importing the data\n",
    "countries_header = ['name','capital','location','pop(mil)','rank','area(km2)','rank_area','currency','national_holiday']\n",
    "df = pd.read_csv('../datasets/countries_a.csv')#, skiprows=1, names=countries_header)"
   ]
  },
  {
   "cell_type": "markdown",
   "metadata": {},
   "source": [
    "### the 5 number summary\n",
    "\n",
    "The 5 number summary consists of the extremes (min and max), quartiles and median. This in panda can be retrieved by the df.describe() function"
   ]
  },
  {
   "cell_type": "code",
   "execution_count": 3,
   "metadata": {
    "inputHidden": false,
    "outputHidden": false
   },
   "outputs": [
    {
     "data": {
      "text/html": [
       "<div>\n",
       "<style scoped>\n",
       "    .dataframe tbody tr th:only-of-type {\n",
       "        vertical-align: middle;\n",
       "    }\n",
       "\n",
       "    .dataframe tbody tr th {\n",
       "        vertical-align: top;\n",
       "    }\n",
       "\n",
       "    .dataframe thead th {\n",
       "        text-align: right;\n",
       "    }\n",
       "</style>\n",
       "<table border=\"1\" class=\"dataframe\">\n",
       "  <thead>\n",
       "    <tr style=\"text-align: right;\">\n",
       "      <th></th>\n",
       "      <th>pop(mil)</th>\n",
       "      <th>rank</th>\n",
       "      <th>area(km2)</th>\n",
       "      <th>rank_area</th>\n",
       "    </tr>\n",
       "  </thead>\n",
       "  <tbody>\n",
       "    <tr>\n",
       "      <th>count</th>\n",
       "      <td>11.000000</td>\n",
       "      <td>11.000000</td>\n",
       "      <td>1.100000e+01</td>\n",
       "      <td>11.000000</td>\n",
       "    </tr>\n",
       "    <tr>\n",
       "      <th>mean</th>\n",
       "      <td>15.355727</td>\n",
       "      <td>94.000000</td>\n",
       "      <td>1.362091e+06</td>\n",
       "      <td>86.545455</td>\n",
       "    </tr>\n",
       "    <tr>\n",
       "      <th>std</th>\n",
       "      <td>14.576210</td>\n",
       "      <td>57.605555</td>\n",
       "      <td>2.327184e+06</td>\n",
       "      <td>70.660263</td>\n",
       "    </tr>\n",
       "    <tr>\n",
       "      <th>min</th>\n",
       "      <td>0.085000</td>\n",
       "      <td>31.000000</td>\n",
       "      <td>4.420000e+02</td>\n",
       "      <td>6.000000</td>\n",
       "    </tr>\n",
       "    <tr>\n",
       "      <th>25%</th>\n",
       "      <td>3.090000</td>\n",
       "      <td>46.000000</td>\n",
       "      <td>2.927400e+04</td>\n",
       "      <td>16.000000</td>\n",
       "    </tr>\n",
       "    <tr>\n",
       "      <th>50%</th>\n",
       "      <td>8.800000</td>\n",
       "      <td>90.000000</td>\n",
       "      <td>8.660000e+04</td>\n",
       "      <td>111.000000</td>\n",
       "    </tr>\n",
       "    <tr>\n",
       "      <th>75%</th>\n",
       "      <td>25.850000</td>\n",
       "      <td>133.500000</td>\n",
       "      <td>1.814220e+06</td>\n",
       "      <td>139.500000</td>\n",
       "    </tr>\n",
       "    <tr>\n",
       "      <th>max</th>\n",
       "      <td>40.300000</td>\n",
       "      <td>186.000000</td>\n",
       "      <td>7.692000e+06</td>\n",
       "      <td>183.000000</td>\n",
       "    </tr>\n",
       "  </tbody>\n",
       "</table>\n",
       "</div>"
      ],
      "text/plain": [
       "        pop(mil)        rank     area(km2)   rank_area\n",
       "count  11.000000   11.000000  1.100000e+01   11.000000\n",
       "mean   15.355727   94.000000  1.362091e+06   86.545455\n",
       "std    14.576210   57.605555  2.327184e+06   70.660263\n",
       "min     0.085000   31.000000  4.420000e+02    6.000000\n",
       "25%     3.090000   46.000000  2.927400e+04   16.000000\n",
       "50%     8.800000   90.000000  8.660000e+04  111.000000\n",
       "75%    25.850000  133.500000  1.814220e+06  139.500000\n",
       "max    40.300000  186.000000  7.692000e+06  183.000000"
      ]
     },
     "execution_count": 3,
     "metadata": {},
     "output_type": "execute_result"
    }
   ],
   "source": [
    " df.describe()"
   ]
  },
  {
   "cell_type": "code",
   "execution_count": 4,
   "metadata": {
    "scrolled": true
   },
   "outputs": [
    {
     "data": {
      "image/png": "[encoded data removed]",
      "text/plain": [
       "<Figure size 432x288 with 1 Axes>"
      ]
     },
     "metadata": {
      "needs_background": "light"
     },
     "output_type": "display_data"
    }
   ],
   "source": [
    "#Looking at the histogram\n",
    "sns.distplot(df['pop(mil)'],bins=20, kde=False);"
   ]
  },
  {
   "cell_type": "markdown",
   "metadata": {},
   "source": [
    "### Plotting the boxplots\n",
    "\n",
    "We will plot the boxplot for the popuation, and we will also look at the square root and at the log of population."
   ]
  },
  {
   "cell_type": "code",
   "execution_count": 5,
   "metadata": {},
   "outputs": [],
   "source": [
    "## getting root and square root\n",
    "df['logpop'] = np.log10(df['pop(mil)'])\n",
    "df['rootpop'] = np.sqrt(df['pop(mil)'])"
   ]
  },
  {
   "cell_type": "code",
   "execution_count": 6,
   "metadata": {
    "inputHidden": false,
    "outputHidden": false
   },
   "outputs": [
    {
     "data": {
      "image/png": "[encoded data removed]",
      "text/plain": [
       "<Figure size 432x288 with 3 Axes>"
      ]
     },
     "metadata": {
      "needs_background": "light"
     },
     "output_type": "display_data"
    }
   ],
   "source": [
    "fig, axis = plt.subplots(1,3)\n",
    "\n",
    "df.boxplot(column=['pop(mil)'],ax=axis[0]);\n",
    "df.boxplot(column=['logpop'],ax=axis[1])\n",
    "df.boxplot(column=['rootpop'],ax=axis[2]);"
   ]
  },
  {
   "cell_type": "code",
   "execution_count": 7,
   "metadata": {},
   "outputs": [
    {
     "data": {
      "image/png": "[encoded data removed]",
      "text/plain": [
       "<Figure size 360x360 with 1 Axes>"
      ]
     },
     "metadata": {
      "needs_background": "light"
     },
     "output_type": "display_data"
    }
   ],
   "source": [
    "sns.relplot(x=\"rank\", y=\"pop(mil)\", data=df, ci=None)\n",
    "\n",
    "plt.xlabel('Country rank')\n",
    "plt.ylabel('Pop (mil)')\n",
    "plt.title(\"Scatter plot of country populations\");"
   ]
  },
  {
   "cell_type": "code",
   "execution_count": 9,
   "metadata": {},
   "outputs": [
    {
     "data": {
      "image/png": "[encoded data removed]",
      "text/plain": [
       "<Figure size 360x360 with 1 Axes>"
      ]
     },
     "metadata": {
      "needs_background": "light"
     },
     "output_type": "display_data"
    }
   ],
   "source": [
    "sns.relplot(x=\"rank\", y=\"rootpop\", data=df, ci=None)\n",
    "\n",
    "plt.xlabel('Country rank')\n",
    "plt.ylabel('SqrRoot Pop (mil)')\n",
    "plt.title(\"Scatter plot of country populations\");"
   ]
  },
  {
   "cell_type": "code",
   "execution_count": 10,
   "metadata": {},
   "outputs": [
    {
     "data": {
      "text/html": [
       "<div>\n",
       "<style scoped>\n",
       "    .dataframe tbody tr th:only-of-type {\n",
       "        vertical-align: middle;\n",
       "    }\n",
       "\n",
       "    .dataframe tbody tr th {\n",
       "        vertical-align: top;\n",
       "    }\n",
       "\n",
       "    .dataframe thead th {\n",
       "        text-align: right;\n",
       "    }\n",
       "</style>\n",
       "<table border=\"1\" class=\"dataframe\">\n",
       "  <thead>\n",
       "    <tr style=\"text-align: right;\">\n",
       "      <th></th>\n",
       "      <th>pop(mil)</th>\n",
       "      <th>rank</th>\n",
       "      <th>area(km2)</th>\n",
       "      <th>rank_area</th>\n",
       "      <th>logpop</th>\n",
       "      <th>rootpop</th>\n",
       "    </tr>\n",
       "  </thead>\n",
       "  <tbody>\n",
       "    <tr>\n",
       "      <th>pop(mil)</th>\n",
       "      <td>1.000000</td>\n",
       "      <td>-0.906289</td>\n",
       "      <td>0.523848</td>\n",
       "      <td>-0.913641</td>\n",
       "      <td>0.798415</td>\n",
       "      <td>0.967835</td>\n",
       "    </tr>\n",
       "    <tr>\n",
       "      <th>rank</th>\n",
       "      <td>-0.906289</td>\n",
       "      <td>1.000000</td>\n",
       "      <td>-0.535728</td>\n",
       "      <td>0.959998</td>\n",
       "      <td>-0.965146</td>\n",
       "      <td>-0.983024</td>\n",
       "    </tr>\n",
       "    <tr>\n",
       "      <th>area(km2)</th>\n",
       "      <td>0.523848</td>\n",
       "      <td>-0.535728</td>\n",
       "      <td>1.000000</td>\n",
       "      <td>-0.683317</td>\n",
       "      <td>0.461824</td>\n",
       "      <td>0.542780</td>\n",
       "    </tr>\n",
       "    <tr>\n",
       "      <th>rank_area</th>\n",
       "      <td>-0.913641</td>\n",
       "      <td>0.959998</td>\n",
       "      <td>-0.683317</td>\n",
       "      <td>1.000000</td>\n",
       "      <td>-0.892280</td>\n",
       "      <td>-0.962798</td>\n",
       "    </tr>\n",
       "    <tr>\n",
       "      <th>logpop</th>\n",
       "      <td>0.798415</td>\n",
       "      <td>-0.965146</td>\n",
       "      <td>0.461824</td>\n",
       "      <td>-0.892280</td>\n",
       "      <td>1.000000</td>\n",
       "      <td>0.919734</td>\n",
       "    </tr>\n",
       "    <tr>\n",
       "      <th>rootpop</th>\n",
       "      <td>0.967835</td>\n",
       "      <td>-0.983024</td>\n",
       "      <td>0.542780</td>\n",
       "      <td>-0.962798</td>\n",
       "      <td>0.919734</td>\n",
       "      <td>1.000000</td>\n",
       "    </tr>\n",
       "  </tbody>\n",
       "</table>\n",
       "</div>"
      ],
      "text/plain": [
       "           pop(mil)      rank  area(km2)  rank_area    logpop   rootpop\n",
       "pop(mil)   1.000000 -0.906289   0.523848  -0.913641  0.798415  0.967835\n",
       "rank      -0.906289  1.000000  -0.535728   0.959998 -0.965146 -0.983024\n",
       "area(km2)  0.523848 -0.535728   1.000000  -0.683317  0.461824  0.542780\n",
       "rank_area -0.913641  0.959998  -0.683317   1.000000 -0.892280 -0.962798\n",
       "logpop     0.798415 -0.965146   0.461824  -0.892280  1.000000  0.919734\n",
       "rootpop    0.967835 -0.983024   0.542780  -0.962798  0.919734  1.000000"
      ]
     },
     "execution_count": 10,
     "metadata": {},
     "output_type": "execute_result"
    }
   ],
   "source": [
    "df.corr()"
   ]
  },
  {
   "cell_type": "code",
   "execution_count": null,
   "metadata": {},
   "outputs": [],
   "source": []
  }
 ],
 "metadata": {
  "kernel_info": {
   "name": "python3"
  },
  "kernelspec": {
   "display_name": "Python 3",
   "language": "python",
   "name": "python3"
  },
  "language_info": {
   "codemirror_mode": {
    "name": "ipython",
    "version": 3
   },
   "file_extension": ".py",
   "mimetype": "text/x-python",
   "name": "python",
   "nbconvert_exporter": "python",
   "pygments_lexer": "ipython3",
   "version": "3.6.5"
  },
  "nteract": {
   "version": "0.12.3"
  }
 },
 "nbformat": 4,
 "nbformat_minor": 4
}
