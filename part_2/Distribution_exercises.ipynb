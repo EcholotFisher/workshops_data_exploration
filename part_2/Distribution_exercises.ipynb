{
 "cells": [
  {
   "cell_type": "code",
   "execution_count": null,
   "metadata": {},
   "outputs": [],
   "source": [
    "import random\n",
    "import pandas as pd\n",
    "import numpy as np\n",
    "import scipy.stats as stats\n",
    "%matplotlib inline\n",
    "import matplotlib.pyplot as plt\n",
    "\n",
    "# const\n",
    "BINS = 20\n",
    "\n",
    "def gen_normal(m, sigma, size):\n",
    "    return pd.DataFrame({'observation':np.random.normal(m, sigma, size)})"
   ]
  },
  {
   "cell_type": "code",
   "execution_count": null,
   "metadata": {},
   "outputs": [],
   "source": [
    "# Tasks: \n",
    "data1 = pd.read_csv('data/StudentsPerformance.csv')\n",
    "what_is_this_distirution_1 = data1[\"math score\"]\n",
    "what_is_this_distirution_1.head(10)"
   ]
  },
  {
   "cell_type": "code",
   "execution_count": null,
   "metadata": {},
   "outputs": [],
   "source": [
    "fig = plt.figure(figsize=(15, 15)) \n",
    "plt.subplot(321)\n",
    "plt.title(\"Histogram plot\")\n",
    "plt.hist(what_is_this_distirution_1, bins=BINS, alpha=0.5, label='poisson', color='b', edgecolor='k')\n",
    "plt.subplot(322)\n",
    "plt.title(\"Violineplot\")\n",
    "plt.violinplot(what_is_this_distirution_1, vert=False, widths=0.9, showmeans=True, showextrema=True, showmedians=True)\n",
    "plt.show()"
   ]
  },
  {
   "cell_type": "code",
   "execution_count": null,
   "metadata": {},
   "outputs": [],
   "source": [
    "mu = np.mean(what_is_this_distirution_1)\n",
    "sigma = np.std(what_is_this_distirution_1)\n",
    "what_is_this_distirution_1_normalized = what_is_this_distirution_1.apply(lambda x: (x - mu)/sigma)\n",
    "fig = plt.figure(figsize=(15, 15)) \n",
    "plt.subplot(321)\n",
    "plt.title(\"Histogram plot\")\n",
    "plt.hist(what_is_this_distirution_1_normalized, bins=BINS, alpha=0.5, label='poisson', color='b', edgecolor='k')\n",
    "plt.hist(gen_normal(0, 1, 1000)['observation'], bins=BINS, alpha=0.5, label='normal', color='g', edgecolor='k')\n",
    "plt.gca().legend(('mistery','normal'))\n",
    "plt.subplot(322)\n",
    "plt.title(\"Violineplot\")\n",
    "plt.violinplot(what_is_this_distirution_1_normalized, vert=False, widths=0.9, showmeans=True, showextrema=True, showmedians=True)\n",
    "plt.show()"
   ]
  },
  {
   "cell_type": "code",
   "execution_count": null,
   "metadata": {},
   "outputs": [],
   "source": [
    "qq = stats.probplot(what_is_this_distirution_1_normalized, plot=plt)"
   ]
  },
  {
   "cell_type": "code",
   "execution_count": null,
   "metadata": {},
   "outputs": [],
   "source": [
    "data2 = pd.read_csv('data/StudentsPerformance.csv')['writing score']\n",
    "data3 = pd.read_csv('data/open-data-website-traffic.csv')['Socrata Sessions']\n",
    "data4 = pd.read_csv('data/open-data-website-traffic.csv')['Socrata Bounce Rate']\n",
    "data5 = pd.read_csv('data/HorseKicksDeath.csv')['C1']"
   ]
  },
  {
   "cell_type": "code",
   "execution_count": null,
   "metadata": {},
   "outputs": [],
   "source": [
    "fig = plt.figure(figsize=(15, 15)) \n",
    "plt.subplot(321)\n",
    "plt.title(\"Histogram plot\")\n",
    "plt.hist(data4, bins=BINS, alpha=0.5, label='poisson', color='b', edgecolor='k')\n",
    "plt.subplot(322)\n",
    "plt.title(\"Violineplot\")\n",
    "plt.violinplot(data4, vert=False, widths=0.9, showmeans=True, showextrema=True, showmedians=True)\n",
    "plt.show()"
   ]
  },
  {
   "cell_type": "code",
   "execution_count": null,
   "metadata": {},
   "outputs": [],
   "source": []
  }
 ],
 "metadata": {
  "kernelspec": {
   "display_name": "Python 3",
   "language": "python",
   "name": "python3"
  },
  "language_info": {
   "codemirror_mode": {
    "name": "ipython",
    "version": 3
   },
   "file_extension": ".py",
   "mimetype": "text/x-python",
   "name": "python",
   "nbconvert_exporter": "python",
   "pygments_lexer": "ipython3",
   "version": "3.6.5"
  }
 },
 "nbformat": 4,
 "nbformat_minor": 2
}
